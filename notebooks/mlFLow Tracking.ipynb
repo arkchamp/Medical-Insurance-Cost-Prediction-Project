{
 "cells": [
  {
   "cell_type": "code",
   "execution_count": 1,
   "id": "77dfb064",
   "metadata": {},
   "outputs": [],
   "source": [
    "# !pip install mlflow"
   ]
  },
  {
   "cell_type": "code",
   "execution_count": 2,
   "id": "2abdba96",
   "metadata": {},
   "outputs": [
    {
     "name": "stdout",
     "output_type": "stream",
     "text": [
      "Clean mlflowData folder ready at: c:\\Users\\arkha\\jupyter-workspace\\medical_insurance_cost_prediction_project\\mlflowData\n"
     ]
    }
   ],
   "source": [
    "import mlflow\n",
    "import mlflow.sklearn\n",
    "import os\n",
    "import shutil\n",
    "\n",
    "mlflow_folder = '../mlflowData'\n",
    "\n",
    "if os.path.exists(mlflow_folder):\n",
    "    shutil.rmtree(mlflow_folder)    \n",
    "\n",
    "os.makedirs(mlflow_folder, exist_ok=True)\n",
    "\n",
    "print(f\"Clean mlflowData folder ready at: {os.path.abspath(mlflow_folder)}\")\n"
   ]
  },
  {
   "cell_type": "code",
   "execution_count": 3,
   "id": "03d36d39",
   "metadata": {},
   "outputs": [
    {
     "name": "stderr",
     "output_type": "stream",
     "text": [
      "2025/08/16 16:25:16 INFO mlflow.tracking.fluent: Experiment with name 'Medical_Insurance_Cost_Prediction' does not exist. Creating a new experiment.\n"
     ]
    },
    {
     "data": {
      "text/plain": [
       "<Experiment: artifact_location='file:///c:/Users/arkha/jupyter-workspace/medical_insurance_cost_prediction_project/mlflowData/610449148954122992', creation_time=1755341716070, experiment_id='610449148954122992', last_update_time=1755341716070, lifecycle_stage='active', name='Medical_Insurance_Cost_Prediction', tags={}>"
      ]
     },
     "execution_count": 3,
     "metadata": {},
     "output_type": "execute_result"
    }
   ],
   "source": [
    "trackingURI = 'file:///' + os.path.abspath(mlflow_folder).replace(\"\\\\\",\"/\")\n",
    "\n",
    "mlflow.set_tracking_uri(trackingURI)\n",
    "\n",
    "mlflow.set_experiment('Medical_Insurance_Cost_Prediction')"
   ]
  },
  {
   "cell_type": "code",
   "execution_count": 4,
   "id": "db08ca71",
   "metadata": {},
   "outputs": [],
   "source": [
    "import pandas as pd\n",
    "import numpy as np\n",
    "\n",
    "from sklearn.model_selection import train_test_split\n",
    "from sklearn.linear_model import LinearRegression,Ridge,Lasso\n",
    "from sklearn.preprocessing import PolynomialFeatures, StandardScaler\n",
    "from sklearn.metrics import mean_squared_error,mean_absolute_error,r2_score\n",
    "from sklearn.neighbors import KNeighborsRegressor\n",
    "from sklearn.ensemble import RandomForestRegressor\n",
    "from sklearn.pipeline import Pipeline\n",
    "import xgboost as xgb"
   ]
  },
  {
   "cell_type": "code",
   "execution_count": 5,
   "id": "d1302995",
   "metadata": {},
   "outputs": [],
   "source": [
    "def mlflow_train_and_log(model,modelName, xTrain,xTest,yTrain,yTest, params=None):\n",
    "\n",
    "    with mlflow.start_run(run_name=modelName):\n",
    "            \n",
    "        model.fit(xTrain,yTrain)\n",
    "        yPred = model.predict(xTest)\n",
    "\n",
    "        rmse = np.sqrt(mean_squared_error(yTest,yPred))\n",
    "        mae = mean_absolute_error(yTest, yPred)\n",
    "        r2 = r2_score(yTest, yPred)\n",
    "\n",
    "        #log params\n",
    "        if params:\n",
    "            mlflow.log_params(params)\n",
    "\n",
    "\n",
    "        #log metrics\n",
    "        mlflow.log_metric('RMSE',rmse)\n",
    "        mlflow.log_metric('MAE',mae)\n",
    "        mlflow.log_metric('R2',r2)\n",
    "\n",
    "        #log model\n",
    "        mlflow.sklearn.log_model(model, modelName)\n",
    "\n",
    "\n",
    "        # Print metrics\n",
    "        print(f\"Model: {modelName}\")\n",
    "        print(f\"RMSE: {rmse:.2f}\")\n",
    "        print(f\"MAE: {mae:.2f}\")\n",
    "        print(f\"R²: {r2:.2f}\\n\")               \n",
    "        "
   ]
  },
  {
   "cell_type": "code",
   "execution_count": 6,
   "id": "a064ee55",
   "metadata": {},
   "outputs": [
    {
     "data": {
      "text/html": [
       "<div>\n",
       "<style scoped>\n",
       "    .dataframe tbody tr th:only-of-type {\n",
       "        vertical-align: middle;\n",
       "    }\n",
       "\n",
       "    .dataframe tbody tr th {\n",
       "        vertical-align: top;\n",
       "    }\n",
       "\n",
       "    .dataframe thead th {\n",
       "        text-align: right;\n",
       "    }\n",
       "</style>\n",
       "<table border=\"1\" class=\"dataframe\">\n",
       "  <thead>\n",
       "    <tr style=\"text-align: right;\">\n",
       "      <th></th>\n",
       "      <th>age</th>\n",
       "      <th>sex</th>\n",
       "      <th>bmi</th>\n",
       "      <th>children</th>\n",
       "      <th>smoker</th>\n",
       "      <th>charges</th>\n",
       "      <th>region_northwest</th>\n",
       "      <th>region_southeast</th>\n",
       "      <th>region_southwest</th>\n",
       "      <th>bmi_category_normal</th>\n",
       "      <th>bmi_category_overweight</th>\n",
       "      <th>bmi_category_underweight</th>\n",
       "      <th>smoker_bmi</th>\n",
       "    </tr>\n",
       "  </thead>\n",
       "  <tbody>\n",
       "    <tr>\n",
       "      <th>0</th>\n",
       "      <td>19</td>\n",
       "      <td>0</td>\n",
       "      <td>27.900</td>\n",
       "      <td>0</td>\n",
       "      <td>1</td>\n",
       "      <td>16884.92400</td>\n",
       "      <td>0</td>\n",
       "      <td>0</td>\n",
       "      <td>1</td>\n",
       "      <td>0</td>\n",
       "      <td>1</td>\n",
       "      <td>0</td>\n",
       "      <td>27.9</td>\n",
       "    </tr>\n",
       "    <tr>\n",
       "      <th>1</th>\n",
       "      <td>18</td>\n",
       "      <td>1</td>\n",
       "      <td>33.770</td>\n",
       "      <td>1</td>\n",
       "      <td>0</td>\n",
       "      <td>1725.55230</td>\n",
       "      <td>0</td>\n",
       "      <td>1</td>\n",
       "      <td>0</td>\n",
       "      <td>0</td>\n",
       "      <td>0</td>\n",
       "      <td>0</td>\n",
       "      <td>0.0</td>\n",
       "    </tr>\n",
       "    <tr>\n",
       "      <th>2</th>\n",
       "      <td>28</td>\n",
       "      <td>1</td>\n",
       "      <td>33.000</td>\n",
       "      <td>3</td>\n",
       "      <td>0</td>\n",
       "      <td>4449.46200</td>\n",
       "      <td>0</td>\n",
       "      <td>1</td>\n",
       "      <td>0</td>\n",
       "      <td>0</td>\n",
       "      <td>0</td>\n",
       "      <td>0</td>\n",
       "      <td>0.0</td>\n",
       "    </tr>\n",
       "    <tr>\n",
       "      <th>3</th>\n",
       "      <td>33</td>\n",
       "      <td>1</td>\n",
       "      <td>22.705</td>\n",
       "      <td>0</td>\n",
       "      <td>0</td>\n",
       "      <td>21984.47061</td>\n",
       "      <td>1</td>\n",
       "      <td>0</td>\n",
       "      <td>0</td>\n",
       "      <td>1</td>\n",
       "      <td>0</td>\n",
       "      <td>0</td>\n",
       "      <td>0.0</td>\n",
       "    </tr>\n",
       "    <tr>\n",
       "      <th>4</th>\n",
       "      <td>32</td>\n",
       "      <td>1</td>\n",
       "      <td>28.880</td>\n",
       "      <td>0</td>\n",
       "      <td>0</td>\n",
       "      <td>3866.85520</td>\n",
       "      <td>1</td>\n",
       "      <td>0</td>\n",
       "      <td>0</td>\n",
       "      <td>0</td>\n",
       "      <td>1</td>\n",
       "      <td>0</td>\n",
       "      <td>0.0</td>\n",
       "    </tr>\n",
       "  </tbody>\n",
       "</table>\n",
       "</div>"
      ],
      "text/plain": [
       "   age  sex     bmi  children  smoker      charges  region_northwest  \\\n",
       "0   19    0  27.900         0       1  16884.92400                 0   \n",
       "1   18    1  33.770         1       0   1725.55230                 0   \n",
       "2   28    1  33.000         3       0   4449.46200                 0   \n",
       "3   33    1  22.705         0       0  21984.47061                 1   \n",
       "4   32    1  28.880         0       0   3866.85520                 1   \n",
       "\n",
       "   region_southeast  region_southwest  bmi_category_normal  \\\n",
       "0                 0                 1                    0   \n",
       "1                 1                 0                    0   \n",
       "2                 1                 0                    0   \n",
       "3                 0                 0                    1   \n",
       "4                 0                 0                    0   \n",
       "\n",
       "   bmi_category_overweight  bmi_category_underweight  smoker_bmi  \n",
       "0                        1                         0        27.9  \n",
       "1                        0                         0         0.0  \n",
       "2                        0                         0         0.0  \n",
       "3                        0                         0         0.0  \n",
       "4                        1                         0         0.0  "
      ]
     },
     "execution_count": 6,
     "metadata": {},
     "output_type": "execute_result"
    }
   ],
   "source": [
    "df = pd.read_csv('../data/cleaned_data.csv')\n",
    "df.head()"
   ]
  },
  {
   "cell_type": "code",
   "execution_count": 7,
   "id": "b9410596",
   "metadata": {},
   "outputs": [
    {
     "data": {
      "text/plain": [
       "((1069, 12), (268, 12), (1069,), (268,))"
      ]
     },
     "execution_count": 7,
     "metadata": {},
     "output_type": "execute_result"
    }
   ],
   "source": [
    "x = df.drop('charges', axis=1)\n",
    "y = df['charges']\n",
    "\n",
    "xTrain, xTest, yTrain, yTest = train_test_split(\n",
    "    x,y, test_size=0.2, random_state=42\n",
    ")\n",
    "\n",
    "xTrain.shape, xTest.shape, yTrain.shape, yTest.shape"
   ]
  },
  {
   "cell_type": "code",
   "execution_count": 8,
   "id": "3f6e035d",
   "metadata": {},
   "outputs": [],
   "source": [
    "scaler = StandardScaler()\n",
    "\n",
    "xTrainScaled = scaler.fit_transform(xTrain)\n",
    "xTestScaled = scaler.transform(xTest)"
   ]
  },
  {
   "cell_type": "code",
   "execution_count": 9,
   "id": "8f44681e",
   "metadata": {},
   "outputs": [],
   "source": [
    "\n",
    "poly = PolynomialFeatures(degree=2)\n",
    "xTrainPoly = poly.fit_transform(xTrainScaled)\n",
    "xTestPoly = poly.transform(xTestScaled)"
   ]
  },
  {
   "cell_type": "code",
   "execution_count": null,
   "id": "ef8a2f22",
   "metadata": {},
   "outputs": [],
   "source": []
  },
  {
   "cell_type": "code",
   "execution_count": 10,
   "id": "4f931903",
   "metadata": {},
   "outputs": [],
   "source": [
    "# import joblib\n",
    "# joblib.dump(scaler, \"../models/scaler.pkl\")\n",
    "# joblib.dump(poly, \"../models/poly_features.pkl\")"
   ]
  },
  {
   "cell_type": "code",
   "execution_count": 11,
   "id": "ea450493",
   "metadata": {},
   "outputs": [
    {
     "name": "stderr",
     "output_type": "stream",
     "text": [
      "2025/08/16 16:25:18 WARNING mlflow.utils.git_utils: Failed to import Git (the Git executable is probably not on your PATH), so Git SHA is not available. Error: Failed to initialize: Bad git executable.\n",
      "The git executable must be specified in one of the following ways:\n",
      "    - be included in your $PATH\n",
      "    - be set via $GIT_PYTHON_GIT_EXECUTABLE\n",
      "    - explicitly set via git.refresh(<full-path-to-git-executable>)\n",
      "\n",
      "All git commands will error until this is rectified.\n",
      "\n",
      "This initial message can be silenced or aggravated in the future by setting the\n",
      "$GIT_PYTHON_REFRESH environment variable. Use one of the following values:\n",
      "    - quiet|q|silence|s|silent|none|n|0: for no message or exception\n",
      "    - warn|w|warning|log|l|1: for a warning message (logging level CRITICAL, displayed by default)\n",
      "    - error|e|exception|raise|r|2: for a raised exception\n",
      "\n",
      "Example:\n",
      "    export GIT_PYTHON_REFRESH=quiet\n",
      "\n",
      "2025/08/16 16:25:18 WARNING mlflow.models.model: `artifact_path` is deprecated. Please use `name` instead.\n",
      "2025/08/16 16:25:29 WARNING mlflow.models.model: Model logged without a signature and input example. Please set `input_example` parameter when logging the model to auto infer the model signature.\n",
      "2025/08/16 16:25:29 WARNING mlflow.models.model: `artifact_path` is deprecated. Please use `name` instead.\n"
     ]
    },
    {
     "name": "stdout",
     "output_type": "stream",
     "text": [
      "Model: Linear Regression\n",
      "RMSE: 4560.55\n",
      "MAE: 2813.07\n",
      "R²: 0.89\n",
      "\n"
     ]
    },
    {
     "name": "stderr",
     "output_type": "stream",
     "text": [
      "2025/08/16 16:25:34 WARNING mlflow.models.model: Model logged without a signature and input example. Please set `input_example` parameter when logging the model to auto infer the model signature.\n",
      "2025/08/16 16:25:34 WARNING mlflow.models.model: `artifact_path` is deprecated. Please use `name` instead.\n"
     ]
    },
    {
     "name": "stdout",
     "output_type": "stream",
     "text": [
      "Model: Ridge Regression\n",
      "RMSE: 4553.15\n",
      "MAE: 2810.58\n",
      "R²: 0.89\n",
      "\n"
     ]
    },
    {
     "name": "stderr",
     "output_type": "stream",
     "text": [
      "2025/08/16 16:25:38 WARNING mlflow.models.model: Model logged without a signature and input example. Please set `input_example` parameter when logging the model to auto infer the model signature.\n",
      "2025/08/16 16:25:39 WARNING mlflow.models.model: `artifact_path` is deprecated. Please use `name` instead.\n"
     ]
    },
    {
     "name": "stdout",
     "output_type": "stream",
     "text": [
      "Model: Lasso Regression\n",
      "RMSE: 4560.45\n",
      "MAE: 2813.02\n",
      "R²: 0.89\n",
      "\n"
     ]
    },
    {
     "name": "stderr",
     "output_type": "stream",
     "text": [
      "2025/08/16 16:25:43 WARNING mlflow.models.model: Model logged without a signature and input example. Please set `input_example` parameter when logging the model to auto infer the model signature.\n",
      "2025/08/16 16:25:43 WARNING mlflow.models.model: `artifact_path` is deprecated. Please use `name` instead.\n"
     ]
    },
    {
     "name": "stdout",
     "output_type": "stream",
     "text": [
      "Model: Polynomial Regression (deg=2)\n",
      "RMSE: 4193.11\n",
      "MAE: 2406.38\n",
      "R²: 0.90\n",
      "\n",
      "Pipeline saved locally for Streamlit!\n"
     ]
    },
    {
     "name": "stderr",
     "output_type": "stream",
     "text": [
      "2025/08/16 16:25:48 WARNING mlflow.models.model: Model logged without a signature and input example. Please set `input_example` parameter when logging the model to auto infer the model signature.\n"
     ]
    },
    {
     "name": "stdout",
     "output_type": "stream",
     "text": [
      "Model: KNN Regressor\n",
      "RMSE: 5126.23\n",
      "MAE: 3170.60\n",
      "R²: 0.86\n",
      "\n"
     ]
    },
    {
     "name": "stderr",
     "output_type": "stream",
     "text": [
      "2025/08/16 16:25:48 WARNING mlflow.models.model: `artifact_path` is deprecated. Please use `name` instead.\n",
      "2025/08/16 16:25:53 WARNING mlflow.models.model: Model logged without a signature and input example. Please set `input_example` parameter when logging the model to auto infer the model signature.\n",
      "2025/08/16 16:25:53 WARNING mlflow.models.model: `artifact_path` is deprecated. Please use `name` instead.\n"
     ]
    },
    {
     "name": "stdout",
     "output_type": "stream",
     "text": [
      "Model: Random Forest\n",
      "RMSE: 4729.86\n",
      "MAE: 2678.06\n",
      "R²: 0.88\n",
      "\n"
     ]
    },
    {
     "name": "stderr",
     "output_type": "stream",
     "text": [
      "2025/08/16 16:25:57 WARNING mlflow.models.model: Model logged without a signature and input example. Please set `input_example` parameter when logging the model to auto infer the model signature.\n"
     ]
    },
    {
     "name": "stdout",
     "output_type": "stream",
     "text": [
      "Model: XGBoost\n",
      "RMSE: 4278.53\n",
      "MAE: 2470.45\n",
      "R²: 0.90\n",
      "\n"
     ]
    }
   ],
   "source": [
    "# Models to log\n",
    "mlflow_train_and_log(LinearRegression(), \"Linear Regression\",\n",
    "                      xTrainScaled, xTestScaled, yTrain, yTest)\n",
    "mlflow_train_and_log(Ridge(alpha=1.0), \"Ridge Regression\",\n",
    "                      xTrainScaled, xTestScaled, yTrain, yTest,\n",
    "                        params={\"alpha\": 1.0})\n",
    "mlflow_train_and_log(Lasso(alpha=0.1), \"Lasso Regression\",\n",
    "                      xTrainScaled, xTestScaled, yTrain, yTest,\n",
    "                        params={\"alpha\": 0.1})\n",
    "\n",
    "# Polynomial Regression\n",
    "poly_pipeline = Pipeline([\n",
    "    ('scaler', StandardScaler()),\n",
    "    ('poly', PolynomialFeatures(degree=2)),\n",
    "    ('model', LinearRegression())\n",
    "])\n",
    "\n",
    "mlflow_train_and_log(poly_pipeline,\"Polynomial Regression (deg=2)\",\n",
    "    xTrain, xTest,\n",
    "    yTrain, yTest,\n",
    "    params={\"degree\": 2}\n",
    ")\n",
    "import joblib\n",
    "joblib.dump(poly_pipeline, \"../models/PolynomialRegressionPipeline.pkl\")\n",
    "print(\"Pipeline saved locally for Streamlit!\")\n",
    "\n",
    "\n",
    "mlflow_train_and_log(KNeighborsRegressor(n_neighbors=5), \"KNN Regressor\",\n",
    "                      xTrainScaled, xTestScaled, yTrain, yTest,\n",
    "                        params={\"n_neighbors\": 5})\n",
    "mlflow_train_and_log(RandomForestRegressor(n_estimators=100, random_state=42),\n",
    "                      \"Random Forest\", xTrainScaled, xTestScaled, yTrain, yTest,\n",
    "                        params={\"n_estimators\": 100})\n",
    "mlflow_train_and_log(xgb.XGBRegressor(\n",
    "    n_estimators=100, learning_rate=0.1, max_depth=3, random_state=42), \"XGBoost\", \n",
    "    xTrainScaled, xTestScaled, yTrain, yTest, \n",
    "    params={\"n_estimators\": 100, \"learning_rate\": 0.1, \"max_depth\": 3})"
   ]
  },
  {
   "cell_type": "code",
   "execution_count": 12,
   "id": "eb844f40",
   "metadata": {},
   "outputs": [
    {
     "name": "stderr",
     "output_type": "stream",
     "text": [
      "Successfully registered model 'MedicalInsuranceCostModel'.\n",
      "2025/08/16 16:25:58 WARNING mlflow.tracking._model_registry.fluent: Run with id 19b94e72f6b343258acf235108768628 has no artifacts at artifact path 'Polynomial Regression (deg=2)', registering model based on models:/m-b9fb97e988de4fa7b061bf3c78f787ae instead\n"
     ]
    },
    {
     "name": "stdout",
     "output_type": "stream",
     "text": [
      "Best model: Polynomial Regression (deg=2)\n",
      "R2: 0.9043\n",
      "Run ID: 19b94e72f6b343258acf235108768628\n",
      "Registered as 'MedicalInsuranceCostModel', version: 1\n"
     ]
    },
    {
     "name": "stderr",
     "output_type": "stream",
     "text": [
      "Created version '1' of model 'MedicalInsuranceCostModel'.\n"
     ]
    },
    {
     "data": {
      "application/vnd.jupyter.widget-view+json": {
       "model_id": "882f28f9eb624d73aaf4acb4f20c2dec",
       "version_major": 2,
       "version_minor": 0
      },
      "text/plain": [
       "Downloading artifacts:   0%|          | 0/1 [00:00<?, ?it/s]"
      ]
     },
     "metadata": {},
     "output_type": "display_data"
    },
    {
     "data": {
      "application/vnd.jupyter.widget-view+json": {
       "model_id": "e73672f8f0dc4b3b823f012238cb64b1",
       "version_major": 2,
       "version_minor": 0
      },
      "text/plain": [
       "Downloading artifacts:   0%|          | 0/5 [00:00<?, ?it/s]"
      ]
     },
     "metadata": {},
     "output_type": "display_data"
    },
    {
     "name": "stdout",
     "output_type": "stream",
     "text": [
      "Best model also copied to: ..\\models\\Polynomial Regression (deg=2)\n"
     ]
    }
   ],
   "source": [
    "from mlflow.tracking import MlflowClient\n",
    "import shutil\n",
    "\n",
    "metricToOptimize = 'R2'\n",
    "\n",
    "experiment = mlflow.get_experiment_by_name('Medical_Insurance_Cost_Prediction')\n",
    "experimentId = experiment.experiment_id\n",
    "\n",
    "client = MlflowClient()\n",
    "runs = client.search_runs(\n",
    "    experiment_ids=[experimentId],\n",
    "    order_by=[f\"metrics.{metricToOptimize} DESC\"]\n",
    ")\n",
    "\n",
    "bestRun = runs[0]\n",
    "bestModelName = bestRun.data.tags.get(\"mlflow.runName\")\n",
    "bestRunId = bestRun.info.run_id\n",
    "bestScore = bestRun.data.metrics[metricToOptimize]\n",
    "\n",
    "print(f\"Best model: {bestModelName}\")\n",
    "print(f\"{metricToOptimize}: {bestScore:.4f}\")\n",
    "print(f\"Run ID: {bestRunId}\")\n",
    "\n",
    "registry_model_name = \"MedicalInsuranceCostModel\"\n",
    "\n",
    "modelURI = f\"runs:/{bestRunId}/{bestModelName}\"\n",
    "result = mlflow.register_model(model_uri=modelURI, name = registry_model_name)\n",
    "\n",
    "print(f\"Registered as '{registry_model_name}', version: {result.version}\")\n",
    "\n",
    "\n",
    "#\n",
    "model_local_path = client.download_artifacts(run_id=bestRunId, path=bestModelName)\n",
    "model_dst_path = os.path.join(\"..\", \"models\", bestModelName)\n",
    "\n",
    "shutil.copytree(model_local_path, model_dst_path, dirs_exist_ok=True)\n",
    "print(f\"Best model also copied to: {model_dst_path}\")"
   ]
  },
  {
   "cell_type": "code",
   "execution_count": null,
   "id": "9eb4baf6",
   "metadata": {},
   "outputs": [],
   "source": []
  }
 ],
 "metadata": {
  "kernelspec": {
   "display_name": "base",
   "language": "python",
   "name": "python3"
  },
  "language_info": {
   "codemirror_mode": {
    "name": "ipython",
    "version": 3
   },
   "file_extension": ".py",
   "mimetype": "text/x-python",
   "name": "python",
   "nbconvert_exporter": "python",
   "pygments_lexer": "ipython3",
   "version": "3.12.7"
  }
 },
 "nbformat": 4,
 "nbformat_minor": 5
}
