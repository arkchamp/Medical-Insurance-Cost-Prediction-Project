{
 "cells": [
  {
   "cell_type": "code",
   "execution_count": 1,
   "id": "0f1679fe",
   "metadata": {},
   "outputs": [],
   "source": [
    "import pandas as pd\n",
    "import numpy as np\n",
    "\n",
    "from sklearn.model_selection import train_test_split\n",
    "from sklearn.linear_model import LinearRegression,Ridge,Lasso\n",
    "from sklearn.preprocessing import PolynomialFeatures, StandardScaler\n",
    "from sklearn.metrics import mean_squared_error,mean_absolute_error,r2_score\n",
    "from sklearn.neighbors import KNeighborsRegressor\n",
    "from sklearn.ensemble import RandomForestRegressor\n",
    "import xgboost as xgb"
   ]
  },
  {
   "cell_type": "code",
   "execution_count": 2,
   "id": "b232c665",
   "metadata": {},
   "outputs": [
    {
     "data": {
      "text/html": [
       "<div>\n",
       "<style scoped>\n",
       "    .dataframe tbody tr th:only-of-type {\n",
       "        vertical-align: middle;\n",
       "    }\n",
       "\n",
       "    .dataframe tbody tr th {\n",
       "        vertical-align: top;\n",
       "    }\n",
       "\n",
       "    .dataframe thead th {\n",
       "        text-align: right;\n",
       "    }\n",
       "</style>\n",
       "<table border=\"1\" class=\"dataframe\">\n",
       "  <thead>\n",
       "    <tr style=\"text-align: right;\">\n",
       "      <th></th>\n",
       "      <th>age</th>\n",
       "      <th>sex</th>\n",
       "      <th>bmi</th>\n",
       "      <th>children</th>\n",
       "      <th>smoker</th>\n",
       "      <th>charges</th>\n",
       "      <th>region_northwest</th>\n",
       "      <th>region_southeast</th>\n",
       "      <th>region_southwest</th>\n",
       "      <th>bmi_category_normal</th>\n",
       "      <th>bmi_category_overweight</th>\n",
       "      <th>bmi_category_underweight</th>\n",
       "      <th>smoker_bmi</th>\n",
       "    </tr>\n",
       "  </thead>\n",
       "  <tbody>\n",
       "    <tr>\n",
       "      <th>0</th>\n",
       "      <td>19</td>\n",
       "      <td>0</td>\n",
       "      <td>27.900</td>\n",
       "      <td>0</td>\n",
       "      <td>1</td>\n",
       "      <td>16884.92400</td>\n",
       "      <td>0</td>\n",
       "      <td>0</td>\n",
       "      <td>1</td>\n",
       "      <td>0</td>\n",
       "      <td>1</td>\n",
       "      <td>0</td>\n",
       "      <td>27.9</td>\n",
       "    </tr>\n",
       "    <tr>\n",
       "      <th>1</th>\n",
       "      <td>18</td>\n",
       "      <td>1</td>\n",
       "      <td>33.770</td>\n",
       "      <td>1</td>\n",
       "      <td>0</td>\n",
       "      <td>1725.55230</td>\n",
       "      <td>0</td>\n",
       "      <td>1</td>\n",
       "      <td>0</td>\n",
       "      <td>0</td>\n",
       "      <td>0</td>\n",
       "      <td>0</td>\n",
       "      <td>0.0</td>\n",
       "    </tr>\n",
       "    <tr>\n",
       "      <th>2</th>\n",
       "      <td>28</td>\n",
       "      <td>1</td>\n",
       "      <td>33.000</td>\n",
       "      <td>3</td>\n",
       "      <td>0</td>\n",
       "      <td>4449.46200</td>\n",
       "      <td>0</td>\n",
       "      <td>1</td>\n",
       "      <td>0</td>\n",
       "      <td>0</td>\n",
       "      <td>0</td>\n",
       "      <td>0</td>\n",
       "      <td>0.0</td>\n",
       "    </tr>\n",
       "    <tr>\n",
       "      <th>3</th>\n",
       "      <td>33</td>\n",
       "      <td>1</td>\n",
       "      <td>22.705</td>\n",
       "      <td>0</td>\n",
       "      <td>0</td>\n",
       "      <td>21984.47061</td>\n",
       "      <td>1</td>\n",
       "      <td>0</td>\n",
       "      <td>0</td>\n",
       "      <td>1</td>\n",
       "      <td>0</td>\n",
       "      <td>0</td>\n",
       "      <td>0.0</td>\n",
       "    </tr>\n",
       "    <tr>\n",
       "      <th>4</th>\n",
       "      <td>32</td>\n",
       "      <td>1</td>\n",
       "      <td>28.880</td>\n",
       "      <td>0</td>\n",
       "      <td>0</td>\n",
       "      <td>3866.85520</td>\n",
       "      <td>1</td>\n",
       "      <td>0</td>\n",
       "      <td>0</td>\n",
       "      <td>0</td>\n",
       "      <td>1</td>\n",
       "      <td>0</td>\n",
       "      <td>0.0</td>\n",
       "    </tr>\n",
       "  </tbody>\n",
       "</table>\n",
       "</div>"
      ],
      "text/plain": [
       "   age  sex     bmi  children  smoker      charges  region_northwest  \\\n",
       "0   19    0  27.900         0       1  16884.92400                 0   \n",
       "1   18    1  33.770         1       0   1725.55230                 0   \n",
       "2   28    1  33.000         3       0   4449.46200                 0   \n",
       "3   33    1  22.705         0       0  21984.47061                 1   \n",
       "4   32    1  28.880         0       0   3866.85520                 1   \n",
       "\n",
       "   region_southeast  region_southwest  bmi_category_normal  \\\n",
       "0                 0                 1                    0   \n",
       "1                 1                 0                    0   \n",
       "2                 1                 0                    0   \n",
       "3                 0                 0                    1   \n",
       "4                 0                 0                    0   \n",
       "\n",
       "   bmi_category_overweight  bmi_category_underweight  smoker_bmi  \n",
       "0                        1                         0        27.9  \n",
       "1                        0                         0         0.0  \n",
       "2                        0                         0         0.0  \n",
       "3                        0                         0         0.0  \n",
       "4                        1                         0         0.0  "
      ]
     },
     "execution_count": 2,
     "metadata": {},
     "output_type": "execute_result"
    }
   ],
   "source": [
    "df = pd.read_csv('../data/cleaned_data.csv')\n",
    "df.head()"
   ]
  },
  {
   "cell_type": "code",
   "execution_count": 3,
   "id": "da3a4444",
   "metadata": {},
   "outputs": [
    {
     "data": {
      "text/plain": [
       "((1069, 12), (268, 12), (1069,), (268,))"
      ]
     },
     "execution_count": 3,
     "metadata": {},
     "output_type": "execute_result"
    }
   ],
   "source": [
    "x = df.drop('charges', axis=1)\n",
    "y = df['charges']\n",
    "\n",
    "xTrain, xTest, yTrain, yTest = train_test_split(\n",
    "    x,y, test_size=0.2, random_state=42\n",
    ")\n",
    "\n",
    "xTrain.shape, xTest.shape, yTrain.shape, yTest.shape"
   ]
  },
  {
   "cell_type": "code",
   "execution_count": 4,
   "id": "4e109e14",
   "metadata": {},
   "outputs": [],
   "source": [
    "scaler = StandardScaler()\n",
    "\n",
    "xTrainScaled = scaler.fit_transform(xTrain)\n",
    "xTestScaled = scaler.transform(xTest)"
   ]
  },
  {
   "cell_type": "code",
   "execution_count": 5,
   "id": "495f29f2",
   "metadata": {},
   "outputs": [],
   "source": [
    "def train_and_evaluate_model(model, xTrain,xTest,yTrain,yTest):\n",
    "    \n",
    "    model.fit(xTrain,yTrain)\n",
    "    yPred = model.predict(xTest)\n",
    "\n",
    "    rmse = np.sqrt(mean_squared_error(yTest,yPred))\n",
    "    mae = mean_absolute_error(yTest, yPred)\n",
    "    r2 = r2_score(yTest, yPred)\n",
    "\n",
    "    # Print metrics\n",
    "    print(f\"Model: {model.__class__.__name__}\")\n",
    "    print(f\"RMSE: {rmse:.2f}\")\n",
    "    print(f\"MAE: {mae:.2f}\")\n",
    "    print(f\"R²: {r2:.2f}\\n\")\n",
    "    \n",
    "    \n",
    "    return model, rmse, mae, r2"
   ]
  },
  {
   "cell_type": "code",
   "execution_count": 6,
   "id": "a6f9d16f",
   "metadata": {},
   "outputs": [
    {
     "name": "stdout",
     "output_type": "stream",
     "text": [
      "Model: LinearRegression\n",
      "RMSE: 4560.55\n",
      "MAE: 2813.07\n",
      "R²: 0.89\n",
      "\n"
     ]
    }
   ],
   "source": [
    "#Linear Regression\n",
    "\n",
    "linModel, linRmse, linMae, linR2 = train_and_evaluate_model(\n",
    "    LinearRegression(),\n",
    "    xTrainScaled,xTestScaled,\n",
    "    yTrain, yTest\n",
    ")\n"
   ]
  },
  {
   "cell_type": "code",
   "execution_count": 7,
   "id": "cdb5137e",
   "metadata": {},
   "outputs": [
    {
     "name": "stdout",
     "output_type": "stream",
     "text": [
      "Model: Ridge\n",
      "RMSE: 4553.15\n",
      "MAE: 2810.58\n",
      "R²: 0.89\n",
      "\n"
     ]
    }
   ],
   "source": [
    "#Ridge Regression\n",
    "\n",
    "ridgeModel, ridgeRmse, ridgeMae, ridgeR2 = train_and_evaluate_model(\n",
    "    Ridge(alpha=1.0),\n",
    "    xTrainScaled, xTestScaled,\n",
    "    yTrain, yTest\n",
    ")"
   ]
  },
  {
   "cell_type": "code",
   "execution_count": 8,
   "id": "b92efcaf",
   "metadata": {},
   "outputs": [
    {
     "name": "stdout",
     "output_type": "stream",
     "text": [
      "Model: Lasso\n",
      "RMSE: 4560.45\n",
      "MAE: 2813.02\n",
      "R²: 0.89\n",
      "\n"
     ]
    }
   ],
   "source": [
    "#Lasso Regression\n",
    "\n",
    "lassoModel, lassoRmse, lassoMae, lassoR2 = train_and_evaluate_model(\n",
    "    Lasso(alpha=0.1),\n",
    "    xTrainScaled,xTestScaled,\n",
    "    yTrain,yTest\n",
    ")"
   ]
  },
  {
   "cell_type": "code",
   "execution_count": null,
   "id": "933ebe73",
   "metadata": {},
   "outputs": [
    {
     "name": "stdout",
     "output_type": "stream",
     "text": [
      "Model: LinearRegression\n",
      "RMSE: 4193.11\n",
      "MAE: 2406.38\n",
      "R²: 0.90\n",
      "\n"
     ]
    }
   ],
   "source": [
    "#Polynomial Regression (degree 2)\n",
    "poly = PolynomialFeatures(degree=2)\n",
    "xtrainPoly = poly.fit_transform(xTrainScaled)\n",
    "xtestPoly  = poly.transform(xTestScaled)\n",
    "\n",
    "polyModel, polyRmse, polyMae,polyR2 = train_and_evaluate_model(\n",
    "    LinearRegression(),\n",
    "    xtrainPoly,xtestPoly,\n",
    "    yTrain,yTest\n",
    ")"
   ]
  },
  {
   "cell_type": "code",
   "execution_count": 10,
   "id": "82ca450f",
   "metadata": {},
   "outputs": [
    {
     "name": "stdout",
     "output_type": "stream",
     "text": [
      "Model: KNeighborsRegressor\n",
      "RMSE: 5126.23\n",
      "MAE: 3170.60\n",
      "R²: 0.86\n",
      "\n"
     ]
    }
   ],
   "source": [
    "#KNN \n",
    "knnModel, knnRmse, knnMae, knnR2 = train_and_evaluate_model(\n",
    "    KNeighborsRegressor(n_neighbors=5),\n",
    "    xTrainScaled, xTestScaled,\n",
    "    yTrain, yTest\n",
    ")"
   ]
  },
  {
   "cell_type": "code",
   "execution_count": 17,
   "id": "7c93aabd",
   "metadata": {},
   "outputs": [
    {
     "name": "stdout",
     "output_type": "stream",
     "text": [
      "Model: RandomForestRegressor\n",
      "RMSE: 4708.63\n",
      "MAE: 2660.73\n",
      "R²: 0.88\n",
      "\n"
     ]
    }
   ],
   "source": [
    "rfModel, rfRmse, rfMae, rfR2 = train_and_evaluate_model(\n",
    "    RandomForestRegressor(n_estimators=100, max_depth=None, random_state=42),\n",
    "    xTrain, xTest,\n",
    "    yTrain, yTest\n",
    ")"
   ]
  },
  {
   "cell_type": "code",
   "execution_count": 15,
   "id": "5a9e8932",
   "metadata": {},
   "outputs": [
    {
     "name": "stdout",
     "output_type": "stream",
     "text": [
      "Model: XGBRegressor\n",
      "RMSE: 4278.53\n",
      "MAE: 2470.45\n",
      "R²: 0.90\n",
      "\n"
     ]
    }
   ],
   "source": [
    "xgbModel, xgbRmse, xgbMae, xgbR2 = train_and_evaluate_model(\n",
    "    xgb.XGBRegressor(n_estimators=100, learning_rate=0.1, max_depth=3, random_state=42),\n",
    "    xTrain, xTest,\n",
    "    yTrain, yTest\n",
    ")"
   ]
  },
  {
   "cell_type": "code",
   "execution_count": null,
   "id": "6fabc378",
   "metadata": {},
   "outputs": [],
   "source": []
  }
 ],
 "metadata": {
  "kernelspec": {
   "display_name": "base",
   "language": "python",
   "name": "python3"
  },
  "language_info": {
   "codemirror_mode": {
    "name": "ipython",
    "version": 3
   },
   "file_extension": ".py",
   "mimetype": "text/x-python",
   "name": "python",
   "nbconvert_exporter": "python",
   "pygments_lexer": "ipython3",
   "version": "3.12.7"
  }
 },
 "nbformat": 4,
 "nbformat_minor": 5
}
